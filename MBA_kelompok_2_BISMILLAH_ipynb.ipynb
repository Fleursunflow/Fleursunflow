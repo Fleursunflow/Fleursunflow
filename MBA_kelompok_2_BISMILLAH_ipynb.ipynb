{
  "nbformat": 4,
  "nbformat_minor": 0,
  "metadata": {
    "colab": {
      "name": "MBA kelompok 2 BISMILLAH ipynb",
      "provenance": [],
      "collapsed_sections": []
    },
    "kernelspec": {
      "name": "python3",
      "display_name": "Python 3"
    },
    "language_info": {
      "name": "python"
    },
    "accelerator": "GPU"
  },
  "cells": [
    {
      "cell_type": "markdown",
      "source": [
        "## Library"
      ],
      "metadata": {
        "id": "0Mep2yNICG3A"
      }
    },
    {
      "cell_type": "code",
      "execution_count": 1,
      "metadata": {
        "id": "dl1qEH4hY_FR"
      },
      "outputs": [],
      "source": [
        "import pandas as pd\n",
        "import numpy as np \n",
        "import seaborn as sns\n",
        "import matplotlib.pyplot as plt\n",
        "from wordcloud import WordCloud\n",
        "from mlxtend.frequent_patterns import apriori\n",
        "from mlxtend.frequent_patterns import association_rules\n",
        "import mlxtend as ml\n"
      ]
    },
    {
      "cell_type": "markdown",
      "source": [
        "## Mount Drive"
      ],
      "metadata": {
        "id": "CFE9V19aCJjq"
      }
    },
    {
      "cell_type": "code",
      "source": [
        "from google.colab import drive\n",
        "drive.mount('/content/drive')"
      ],
      "metadata": {
        "colab": {
          "base_uri": "https://localhost:8080/"
        },
        "id": "tu_ergYBd6xN",
        "outputId": "5da8d695-6ad2-4d55-c990-3fdcbbb57260"
      },
      "execution_count": 2,
      "outputs": [
        {
          "output_type": "stream",
          "name": "stdout",
          "text": [
            "Mounted at /content/drive\n"
          ]
        }
      ]
    },
    {
      "cell_type": "markdown",
      "source": [
        "## Cek Data"
      ],
      "metadata": {
        "id": "lEwXxM0zCMPB"
      }
    },
    {
      "cell_type": "code",
      "source": [
        "data = pd.read_csv('/content/drive/MyDrive/Assignment-1_Data.csv', sep =\";\")"
      ],
      "metadata": {
        "colab": {
          "base_uri": "https://localhost:8080/"
        },
        "id": "D6ShZsBkHape",
        "outputId": "0c97acdd-7764-4577-f513-89623daba107"
      },
      "execution_count": 3,
      "outputs": [
        {
          "output_type": "stream",
          "name": "stderr",
          "text": [
            "/usr/local/lib/python3.7/dist-packages/IPython/core/interactiveshell.py:2882: DtypeWarning: Columns (0) have mixed types.Specify dtype option on import or set low_memory=False.\n",
            "  exec(code_obj, self.user_global_ns, self.user_ns)\n"
          ]
        }
      ]
    },
    {
      "cell_type": "code",
      "source": [
        "data.head() #melihat keseluruhan dataframe"
      ],
      "metadata": {
        "colab": {
          "base_uri": "https://localhost:8080/",
          "height": 206
        },
        "id": "9xdlVaFze_1w",
        "outputId": "691a196f-a3a6-469c-e715-f38843e8dc69"
      },
      "execution_count": 4,
      "outputs": [
        {
          "output_type": "execute_result",
          "data": {
            "text/plain": [
              "   BillNo                             Itemname  Quantity              Date  \\\n",
              "0  536365   WHITE HANGING HEART T-LIGHT HOLDER         6  01.12.2010 08:26   \n",
              "1  536365                  WHITE METAL LANTERN         6  01.12.2010 08:26   \n",
              "2  536365       CREAM CUPID HEARTS COAT HANGER         8  01.12.2010 08:26   \n",
              "3  536365  KNITTED UNION FLAG HOT WATER BOTTLE         6  01.12.2010 08:26   \n",
              "4  536365       RED WOOLLY HOTTIE WHITE HEART.         6  01.12.2010 08:26   \n",
              "\n",
              "  Price  CustomerID         Country  \n",
              "0  2,55     17850.0  United Kingdom  \n",
              "1  3,39     17850.0  United Kingdom  \n",
              "2  2,75     17850.0  United Kingdom  \n",
              "3  3,39     17850.0  United Kingdom  \n",
              "4  3,39     17850.0  United Kingdom  "
            ],
            "text/html": [
              "\n",
              "  <div id=\"df-73a54cf2-5964-418f-bf82-39bf899db3ba\">\n",
              "    <div class=\"colab-df-container\">\n",
              "      <div>\n",
              "<style scoped>\n",
              "    .dataframe tbody tr th:only-of-type {\n",
              "        vertical-align: middle;\n",
              "    }\n",
              "\n",
              "    .dataframe tbody tr th {\n",
              "        vertical-align: top;\n",
              "    }\n",
              "\n",
              "    .dataframe thead th {\n",
              "        text-align: right;\n",
              "    }\n",
              "</style>\n",
              "<table border=\"1\" class=\"dataframe\">\n",
              "  <thead>\n",
              "    <tr style=\"text-align: right;\">\n",
              "      <th></th>\n",
              "      <th>BillNo</th>\n",
              "      <th>Itemname</th>\n",
              "      <th>Quantity</th>\n",
              "      <th>Date</th>\n",
              "      <th>Price</th>\n",
              "      <th>CustomerID</th>\n",
              "      <th>Country</th>\n",
              "    </tr>\n",
              "  </thead>\n",
              "  <tbody>\n",
              "    <tr>\n",
              "      <th>0</th>\n",
              "      <td>536365</td>\n",
              "      <td>WHITE HANGING HEART T-LIGHT HOLDER</td>\n",
              "      <td>6</td>\n",
              "      <td>01.12.2010 08:26</td>\n",
              "      <td>2,55</td>\n",
              "      <td>17850.0</td>\n",
              "      <td>United Kingdom</td>\n",
              "    </tr>\n",
              "    <tr>\n",
              "      <th>1</th>\n",
              "      <td>536365</td>\n",
              "      <td>WHITE METAL LANTERN</td>\n",
              "      <td>6</td>\n",
              "      <td>01.12.2010 08:26</td>\n",
              "      <td>3,39</td>\n",
              "      <td>17850.0</td>\n",
              "      <td>United Kingdom</td>\n",
              "    </tr>\n",
              "    <tr>\n",
              "      <th>2</th>\n",
              "      <td>536365</td>\n",
              "      <td>CREAM CUPID HEARTS COAT HANGER</td>\n",
              "      <td>8</td>\n",
              "      <td>01.12.2010 08:26</td>\n",
              "      <td>2,75</td>\n",
              "      <td>17850.0</td>\n",
              "      <td>United Kingdom</td>\n",
              "    </tr>\n",
              "    <tr>\n",
              "      <th>3</th>\n",
              "      <td>536365</td>\n",
              "      <td>KNITTED UNION FLAG HOT WATER BOTTLE</td>\n",
              "      <td>6</td>\n",
              "      <td>01.12.2010 08:26</td>\n",
              "      <td>3,39</td>\n",
              "      <td>17850.0</td>\n",
              "      <td>United Kingdom</td>\n",
              "    </tr>\n",
              "    <tr>\n",
              "      <th>4</th>\n",
              "      <td>536365</td>\n",
              "      <td>RED WOOLLY HOTTIE WHITE HEART.</td>\n",
              "      <td>6</td>\n",
              "      <td>01.12.2010 08:26</td>\n",
              "      <td>3,39</td>\n",
              "      <td>17850.0</td>\n",
              "      <td>United Kingdom</td>\n",
              "    </tr>\n",
              "  </tbody>\n",
              "</table>\n",
              "</div>\n",
              "      <button class=\"colab-df-convert\" onclick=\"convertToInteractive('df-73a54cf2-5964-418f-bf82-39bf899db3ba')\"\n",
              "              title=\"Convert this dataframe to an interactive table.\"\n",
              "              style=\"display:none;\">\n",
              "        \n",
              "  <svg xmlns=\"http://www.w3.org/2000/svg\" height=\"24px\"viewBox=\"0 0 24 24\"\n",
              "       width=\"24px\">\n",
              "    <path d=\"M0 0h24v24H0V0z\" fill=\"none\"/>\n",
              "    <path d=\"M18.56 5.44l.94 2.06.94-2.06 2.06-.94-2.06-.94-.94-2.06-.94 2.06-2.06.94zm-11 1L8.5 8.5l.94-2.06 2.06-.94-2.06-.94L8.5 2.5l-.94 2.06-2.06.94zm10 10l.94 2.06.94-2.06 2.06-.94-2.06-.94-.94-2.06-.94 2.06-2.06.94z\"/><path d=\"M17.41 7.96l-1.37-1.37c-.4-.4-.92-.59-1.43-.59-.52 0-1.04.2-1.43.59L10.3 9.45l-7.72 7.72c-.78.78-.78 2.05 0 2.83L4 21.41c.39.39.9.59 1.41.59.51 0 1.02-.2 1.41-.59l7.78-7.78 2.81-2.81c.8-.78.8-2.07 0-2.86zM5.41 20L4 18.59l7.72-7.72 1.47 1.35L5.41 20z\"/>\n",
              "  </svg>\n",
              "      </button>\n",
              "      \n",
              "  <style>\n",
              "    .colab-df-container {\n",
              "      display:flex;\n",
              "      flex-wrap:wrap;\n",
              "      gap: 12px;\n",
              "    }\n",
              "\n",
              "    .colab-df-convert {\n",
              "      background-color: #E8F0FE;\n",
              "      border: none;\n",
              "      border-radius: 50%;\n",
              "      cursor: pointer;\n",
              "      display: none;\n",
              "      fill: #1967D2;\n",
              "      height: 32px;\n",
              "      padding: 0 0 0 0;\n",
              "      width: 32px;\n",
              "    }\n",
              "\n",
              "    .colab-df-convert:hover {\n",
              "      background-color: #E2EBFA;\n",
              "      box-shadow: 0px 1px 2px rgba(60, 64, 67, 0.3), 0px 1px 3px 1px rgba(60, 64, 67, 0.15);\n",
              "      fill: #174EA6;\n",
              "    }\n",
              "\n",
              "    [theme=dark] .colab-df-convert {\n",
              "      background-color: #3B4455;\n",
              "      fill: #D2E3FC;\n",
              "    }\n",
              "\n",
              "    [theme=dark] .colab-df-convert:hover {\n",
              "      background-color: #434B5C;\n",
              "      box-shadow: 0px 1px 3px 1px rgba(0, 0, 0, 0.15);\n",
              "      filter: drop-shadow(0px 1px 2px rgba(0, 0, 0, 0.3));\n",
              "      fill: #FFFFFF;\n",
              "    }\n",
              "  </style>\n",
              "\n",
              "      <script>\n",
              "        const buttonEl =\n",
              "          document.querySelector('#df-73a54cf2-5964-418f-bf82-39bf899db3ba button.colab-df-convert');\n",
              "        buttonEl.style.display =\n",
              "          google.colab.kernel.accessAllowed ? 'block' : 'none';\n",
              "\n",
              "        async function convertToInteractive(key) {\n",
              "          const element = document.querySelector('#df-73a54cf2-5964-418f-bf82-39bf899db3ba');\n",
              "          const dataTable =\n",
              "            await google.colab.kernel.invokeFunction('convertToInteractive',\n",
              "                                                     [key], {});\n",
              "          if (!dataTable) return;\n",
              "\n",
              "          const docLinkHtml = 'Like what you see? Visit the ' +\n",
              "            '<a target=\"_blank\" href=https://colab.research.google.com/notebooks/data_table.ipynb>data table notebook</a>'\n",
              "            + ' to learn more about interactive tables.';\n",
              "          element.innerHTML = '';\n",
              "          dataTable['output_type'] = 'display_data';\n",
              "          await google.colab.output.renderOutput(dataTable, element);\n",
              "          const docLink = document.createElement('div');\n",
              "          docLink.innerHTML = docLinkHtml;\n",
              "          element.appendChild(docLink);\n",
              "        }\n",
              "      </script>\n",
              "    </div>\n",
              "  </div>\n",
              "  "
            ]
          },
          "metadata": {},
          "execution_count": 4
        }
      ]
    },
    {
      "cell_type": "code",
      "source": [
        "data.shape #melihat banyak baris dan kolom"
      ],
      "metadata": {
        "colab": {
          "base_uri": "https://localhost:8080/"
        },
        "id": "DB4AhdrFf1T9",
        "outputId": "87ebc59c-9f19-4a26-fc3c-98a216f9f2a7"
      },
      "execution_count": 5,
      "outputs": [
        {
          "output_type": "execute_result",
          "data": {
            "text/plain": [
              "(522064, 7)"
            ]
          },
          "metadata": {},
          "execution_count": 5
        }
      ]
    },
    {
      "cell_type": "code",
      "source": [
        "data.dtypes #melihat type data"
      ],
      "metadata": {
        "colab": {
          "base_uri": "https://localhost:8080/"
        },
        "id": "TTV2tuoZgBbO",
        "outputId": "28a946d3-17a8-4b6c-da54-f2ec44bb3af5"
      },
      "execution_count": 6,
      "outputs": [
        {
          "output_type": "execute_result",
          "data": {
            "text/plain": [
              "BillNo         object\n",
              "Itemname       object\n",
              "Quantity        int64\n",
              "Date           object\n",
              "Price          object\n",
              "CustomerID    float64\n",
              "Country        object\n",
              "dtype: object"
            ]
          },
          "metadata": {},
          "execution_count": 6
        }
      ]
    },
    {
      "cell_type": "code",
      "source": [
        "data[\"Date\"] = data[\"Date\"].astype('datetime64[ns]')"
      ],
      "metadata": {
        "id": "3Z9zjYyXgw4A"
      },
      "execution_count": 7,
      "outputs": []
    },
    {
      "cell_type": "code",
      "source": [
        "data.dtypes"
      ],
      "metadata": {
        "colab": {
          "base_uri": "https://localhost:8080/"
        },
        "id": "VAKuM-kkg7xF",
        "outputId": "ce0c3757-3400-4e49-9054-a73725d29600"
      },
      "execution_count": 8,
      "outputs": [
        {
          "output_type": "execute_result",
          "data": {
            "text/plain": [
              "BillNo                object\n",
              "Itemname              object\n",
              "Quantity               int64\n",
              "Date          datetime64[ns]\n",
              "Price                 object\n",
              "CustomerID           float64\n",
              "Country               object\n",
              "dtype: object"
            ]
          },
          "metadata": {},
          "execution_count": 8
        }
      ]
    },
    {
      "cell_type": "code",
      "source": [
        "data.sort_values(by=[\"Date\"]).head(10)"
      ],
      "metadata": {
        "colab": {
          "base_uri": "https://localhost:8080/",
          "height": 363
        },
        "id": "vncCiuvMheMS",
        "outputId": "eb0be851-dbd3-42ab-a5f1-45082b488047"
      },
      "execution_count": 9,
      "outputs": [
        {
          "output_type": "execute_result",
          "data": {
            "text/plain": [
              "    BillNo                             Itemname  Quantity                Date  \\\n",
              "0   536365   WHITE HANGING HEART T-LIGHT HOLDER         6 2010-01-12 08:26:00   \n",
              "1   536365                  WHITE METAL LANTERN         6 2010-01-12 08:26:00   \n",
              "2   536365       CREAM CUPID HEARTS COAT HANGER         8 2010-01-12 08:26:00   \n",
              "3   536365  KNITTED UNION FLAG HOT WATER BOTTLE         6 2010-01-12 08:26:00   \n",
              "4   536365       RED WOOLLY HOTTIE WHITE HEART.         6 2010-01-12 08:26:00   \n",
              "5   536365         SET 7 BABUSHKA NESTING BOXES         2 2010-01-12 08:26:00   \n",
              "6   536365    GLASS STAR FROSTED T-LIGHT HOLDER         6 2010-01-12 08:26:00   \n",
              "7   536366               HAND WARMER UNION JACK         6 2010-01-12 08:28:00   \n",
              "8   536366            HAND WARMER RED POLKA DOT         6 2010-01-12 08:28:00   \n",
              "24  536368         BLUE COAT RACK PARIS FASHION         3 2010-01-12 08:34:00   \n",
              "\n",
              "   Price  CustomerID         Country  \n",
              "0   2,55     17850.0  United Kingdom  \n",
              "1   3,39     17850.0  United Kingdom  \n",
              "2   2,75     17850.0  United Kingdom  \n",
              "3   3,39     17850.0  United Kingdom  \n",
              "4   3,39     17850.0  United Kingdom  \n",
              "5   7,65     17850.0  United Kingdom  \n",
              "6   4,25     17850.0  United Kingdom  \n",
              "7   1,85     17850.0  United Kingdom  \n",
              "8   1,85     17850.0  United Kingdom  \n",
              "24  4,95     13047.0  United Kingdom  "
            ],
            "text/html": [
              "\n",
              "  <div id=\"df-4c5d5611-94a0-46df-9e74-b2bc264ffea2\">\n",
              "    <div class=\"colab-df-container\">\n",
              "      <div>\n",
              "<style scoped>\n",
              "    .dataframe tbody tr th:only-of-type {\n",
              "        vertical-align: middle;\n",
              "    }\n",
              "\n",
              "    .dataframe tbody tr th {\n",
              "        vertical-align: top;\n",
              "    }\n",
              "\n",
              "    .dataframe thead th {\n",
              "        text-align: right;\n",
              "    }\n",
              "</style>\n",
              "<table border=\"1\" class=\"dataframe\">\n",
              "  <thead>\n",
              "    <tr style=\"text-align: right;\">\n",
              "      <th></th>\n",
              "      <th>BillNo</th>\n",
              "      <th>Itemname</th>\n",
              "      <th>Quantity</th>\n",
              "      <th>Date</th>\n",
              "      <th>Price</th>\n",
              "      <th>CustomerID</th>\n",
              "      <th>Country</th>\n",
              "    </tr>\n",
              "  </thead>\n",
              "  <tbody>\n",
              "    <tr>\n",
              "      <th>0</th>\n",
              "      <td>536365</td>\n",
              "      <td>WHITE HANGING HEART T-LIGHT HOLDER</td>\n",
              "      <td>6</td>\n",
              "      <td>2010-01-12 08:26:00</td>\n",
              "      <td>2,55</td>\n",
              "      <td>17850.0</td>\n",
              "      <td>United Kingdom</td>\n",
              "    </tr>\n",
              "    <tr>\n",
              "      <th>1</th>\n",
              "      <td>536365</td>\n",
              "      <td>WHITE METAL LANTERN</td>\n",
              "      <td>6</td>\n",
              "      <td>2010-01-12 08:26:00</td>\n",
              "      <td>3,39</td>\n",
              "      <td>17850.0</td>\n",
              "      <td>United Kingdom</td>\n",
              "    </tr>\n",
              "    <tr>\n",
              "      <th>2</th>\n",
              "      <td>536365</td>\n",
              "      <td>CREAM CUPID HEARTS COAT HANGER</td>\n",
              "      <td>8</td>\n",
              "      <td>2010-01-12 08:26:00</td>\n",
              "      <td>2,75</td>\n",
              "      <td>17850.0</td>\n",
              "      <td>United Kingdom</td>\n",
              "    </tr>\n",
              "    <tr>\n",
              "      <th>3</th>\n",
              "      <td>536365</td>\n",
              "      <td>KNITTED UNION FLAG HOT WATER BOTTLE</td>\n",
              "      <td>6</td>\n",
              "      <td>2010-01-12 08:26:00</td>\n",
              "      <td>3,39</td>\n",
              "      <td>17850.0</td>\n",
              "      <td>United Kingdom</td>\n",
              "    </tr>\n",
              "    <tr>\n",
              "      <th>4</th>\n",
              "      <td>536365</td>\n",
              "      <td>RED WOOLLY HOTTIE WHITE HEART.</td>\n",
              "      <td>6</td>\n",
              "      <td>2010-01-12 08:26:00</td>\n",
              "      <td>3,39</td>\n",
              "      <td>17850.0</td>\n",
              "      <td>United Kingdom</td>\n",
              "    </tr>\n",
              "    <tr>\n",
              "      <th>5</th>\n",
              "      <td>536365</td>\n",
              "      <td>SET 7 BABUSHKA NESTING BOXES</td>\n",
              "      <td>2</td>\n",
              "      <td>2010-01-12 08:26:00</td>\n",
              "      <td>7,65</td>\n",
              "      <td>17850.0</td>\n",
              "      <td>United Kingdom</td>\n",
              "    </tr>\n",
              "    <tr>\n",
              "      <th>6</th>\n",
              "      <td>536365</td>\n",
              "      <td>GLASS STAR FROSTED T-LIGHT HOLDER</td>\n",
              "      <td>6</td>\n",
              "      <td>2010-01-12 08:26:00</td>\n",
              "      <td>4,25</td>\n",
              "      <td>17850.0</td>\n",
              "      <td>United Kingdom</td>\n",
              "    </tr>\n",
              "    <tr>\n",
              "      <th>7</th>\n",
              "      <td>536366</td>\n",
              "      <td>HAND WARMER UNION JACK</td>\n",
              "      <td>6</td>\n",
              "      <td>2010-01-12 08:28:00</td>\n",
              "      <td>1,85</td>\n",
              "      <td>17850.0</td>\n",
              "      <td>United Kingdom</td>\n",
              "    </tr>\n",
              "    <tr>\n",
              "      <th>8</th>\n",
              "      <td>536366</td>\n",
              "      <td>HAND WARMER RED POLKA DOT</td>\n",
              "      <td>6</td>\n",
              "      <td>2010-01-12 08:28:00</td>\n",
              "      <td>1,85</td>\n",
              "      <td>17850.0</td>\n",
              "      <td>United Kingdom</td>\n",
              "    </tr>\n",
              "    <tr>\n",
              "      <th>24</th>\n",
              "      <td>536368</td>\n",
              "      <td>BLUE COAT RACK PARIS FASHION</td>\n",
              "      <td>3</td>\n",
              "      <td>2010-01-12 08:34:00</td>\n",
              "      <td>4,95</td>\n",
              "      <td>13047.0</td>\n",
              "      <td>United Kingdom</td>\n",
              "    </tr>\n",
              "  </tbody>\n",
              "</table>\n",
              "</div>\n",
              "      <button class=\"colab-df-convert\" onclick=\"convertToInteractive('df-4c5d5611-94a0-46df-9e74-b2bc264ffea2')\"\n",
              "              title=\"Convert this dataframe to an interactive table.\"\n",
              "              style=\"display:none;\">\n",
              "        \n",
              "  <svg xmlns=\"http://www.w3.org/2000/svg\" height=\"24px\"viewBox=\"0 0 24 24\"\n",
              "       width=\"24px\">\n",
              "    <path d=\"M0 0h24v24H0V0z\" fill=\"none\"/>\n",
              "    <path d=\"M18.56 5.44l.94 2.06.94-2.06 2.06-.94-2.06-.94-.94-2.06-.94 2.06-2.06.94zm-11 1L8.5 8.5l.94-2.06 2.06-.94-2.06-.94L8.5 2.5l-.94 2.06-2.06.94zm10 10l.94 2.06.94-2.06 2.06-.94-2.06-.94-.94-2.06-.94 2.06-2.06.94z\"/><path d=\"M17.41 7.96l-1.37-1.37c-.4-.4-.92-.59-1.43-.59-.52 0-1.04.2-1.43.59L10.3 9.45l-7.72 7.72c-.78.78-.78 2.05 0 2.83L4 21.41c.39.39.9.59 1.41.59.51 0 1.02-.2 1.41-.59l7.78-7.78 2.81-2.81c.8-.78.8-2.07 0-2.86zM5.41 20L4 18.59l7.72-7.72 1.47 1.35L5.41 20z\"/>\n",
              "  </svg>\n",
              "      </button>\n",
              "      \n",
              "  <style>\n",
              "    .colab-df-container {\n",
              "      display:flex;\n",
              "      flex-wrap:wrap;\n",
              "      gap: 12px;\n",
              "    }\n",
              "\n",
              "    .colab-df-convert {\n",
              "      background-color: #E8F0FE;\n",
              "      border: none;\n",
              "      border-radius: 50%;\n",
              "      cursor: pointer;\n",
              "      display: none;\n",
              "      fill: #1967D2;\n",
              "      height: 32px;\n",
              "      padding: 0 0 0 0;\n",
              "      width: 32px;\n",
              "    }\n",
              "\n",
              "    .colab-df-convert:hover {\n",
              "      background-color: #E2EBFA;\n",
              "      box-shadow: 0px 1px 2px rgba(60, 64, 67, 0.3), 0px 1px 3px 1px rgba(60, 64, 67, 0.15);\n",
              "      fill: #174EA6;\n",
              "    }\n",
              "\n",
              "    [theme=dark] .colab-df-convert {\n",
              "      background-color: #3B4455;\n",
              "      fill: #D2E3FC;\n",
              "    }\n",
              "\n",
              "    [theme=dark] .colab-df-convert:hover {\n",
              "      background-color: #434B5C;\n",
              "      box-shadow: 0px 1px 3px 1px rgba(0, 0, 0, 0.15);\n",
              "      filter: drop-shadow(0px 1px 2px rgba(0, 0, 0, 0.3));\n",
              "      fill: #FFFFFF;\n",
              "    }\n",
              "  </style>\n",
              "\n",
              "      <script>\n",
              "        const buttonEl =\n",
              "          document.querySelector('#df-4c5d5611-94a0-46df-9e74-b2bc264ffea2 button.colab-df-convert');\n",
              "        buttonEl.style.display =\n",
              "          google.colab.kernel.accessAllowed ? 'block' : 'none';\n",
              "\n",
              "        async function convertToInteractive(key) {\n",
              "          const element = document.querySelector('#df-4c5d5611-94a0-46df-9e74-b2bc264ffea2');\n",
              "          const dataTable =\n",
              "            await google.colab.kernel.invokeFunction('convertToInteractive',\n",
              "                                                     [key], {});\n",
              "          if (!dataTable) return;\n",
              "\n",
              "          const docLinkHtml = 'Like what you see? Visit the ' +\n",
              "            '<a target=\"_blank\" href=https://colab.research.google.com/notebooks/data_table.ipynb>data table notebook</a>'\n",
              "            + ' to learn more about interactive tables.';\n",
              "          element.innerHTML = '';\n",
              "          dataTable['output_type'] = 'display_data';\n",
              "          await google.colab.output.renderOutput(dataTable, element);\n",
              "          const docLink = document.createElement('div');\n",
              "          docLink.innerHTML = docLinkHtml;\n",
              "          element.appendChild(docLink);\n",
              "        }\n",
              "      </script>\n",
              "    </div>\n",
              "  </div>\n",
              "  "
            ]
          },
          "metadata": {},
          "execution_count": 9
        }
      ]
    },
    {
      "cell_type": "code",
      "source": [
        "print(\"Menampilkan data ke 5 sampai kurang dari 10 dalam satu baris:\")\n",
        "\n",
        "print(data.iloc[5:10]) #Iloc berfungsi Menampilkan data dalam range tertentu"
      ],
      "metadata": {
        "colab": {
          "base_uri": "https://localhost:8080/"
        },
        "id": "aCssj3kzhtCc",
        "outputId": "a4ac4578-6ad4-4508-888c-ad583a55abd5"
      },
      "execution_count": 10,
      "outputs": [
        {
          "output_type": "stream",
          "name": "stdout",
          "text": [
            "Menampilkan data ke 5 sampai kurang dari 10 dalam satu baris:\n",
            "   BillNo                           Itemname  Quantity                Date  \\\n",
            "5  536365       SET 7 BABUSHKA NESTING BOXES         2 2010-01-12 08:26:00   \n",
            "6  536365  GLASS STAR FROSTED T-LIGHT HOLDER         6 2010-01-12 08:26:00   \n",
            "7  536366             HAND WARMER UNION JACK         6 2010-01-12 08:28:00   \n",
            "8  536366          HAND WARMER RED POLKA DOT         6 2010-01-12 08:28:00   \n",
            "9  536367      ASSORTED COLOUR BIRD ORNAMENT        32 2010-01-12 08:34:00   \n",
            "\n",
            "  Price  CustomerID         Country  \n",
            "5  7,65     17850.0  United Kingdom  \n",
            "6  4,25     17850.0  United Kingdom  \n",
            "7  1,85     17850.0  United Kingdom  \n",
            "8  1,85     17850.0  United Kingdom  \n",
            "9  1,69     13047.0  United Kingdom  \n"
          ]
        }
      ]
    },
    {
      "cell_type": "code",
      "source": [
        "data.duplicated().sum() #Mengecek apakah ada duplikasi data"
      ],
      "metadata": {
        "colab": {
          "base_uri": "https://localhost:8080/"
        },
        "id": "qpTzj30Eh5k1",
        "outputId": "c47809ea-3cfe-453b-c846-328970e38106"
      },
      "execution_count": 11,
      "outputs": [
        {
          "output_type": "execute_result",
          "data": {
            "text/plain": [
              "5284"
            ]
          },
          "metadata": {},
          "execution_count": 11
        }
      ]
    },
    {
      "cell_type": "code",
      "source": [
        "data.isnull().sum() #Mengecek seberapa banyak data yang kosong"
      ],
      "metadata": {
        "colab": {
          "base_uri": "https://localhost:8080/"
        },
        "id": "J2WrzefNKuQT",
        "outputId": "537e1e3a-762e-4a6e-de54-26d4ceb56387"
      },
      "execution_count": 12,
      "outputs": [
        {
          "output_type": "execute_result",
          "data": {
            "text/plain": [
              "BillNo             0\n",
              "Itemname        1455\n",
              "Quantity           0\n",
              "Date               0\n",
              "Price              0\n",
              "CustomerID    134041\n",
              "Country            0\n",
              "dtype: int64"
            ]
          },
          "metadata": {},
          "execution_count": 12
        }
      ]
    },
    {
      "cell_type": "markdown",
      "source": [
        "## Preprocessing"
      ],
      "metadata": {
        "id": "MkTt23KzCRuR"
      }
    },
    {
      "cell_type": "markdown",
      "source": [
        "### Cek apakah ada data bernilai 0"
      ],
      "metadata": {
        "id": "aEejQX-3CVPz"
      }
    },
    {
      "cell_type": "code",
      "source": [
        "#Let's convert the 0’s into NaN by using .replace() method\n",
        "for i in range(1,6):\n",
        "    data.iloc[:, i].replace(0, np.nan, inplace=True)"
      ],
      "metadata": {
        "id": "rFY6JQFtImRb"
      },
      "execution_count": 13,
      "outputs": []
    },
    {
      "cell_type": "code",
      "source": [
        "#Again checking how much data in our dataset is mentioned as 0:\n",
        "(data.iloc[:,1:6] == 0).sum()"
      ],
      "metadata": {
        "colab": {
          "base_uri": "https://localhost:8080/"
        },
        "id": "HIPWjVZMIrbN",
        "outputId": "668d90db-e780-4e06-c3a3-c4ec6334e31c"
      },
      "execution_count": 14,
      "outputs": [
        {
          "output_type": "execute_result",
          "data": {
            "text/plain": [
              "Itemname      0\n",
              "Quantity      0\n",
              "Date          0\n",
              "Price         0\n",
              "CustomerID    0\n",
              "dtype: int64"
            ]
          },
          "metadata": {},
          "execution_count": 14
        }
      ]
    },
    {
      "cell_type": "code",
      "source": [
        "#let’s again for confirmation, check our dataset using .head() method and print the top 10 rows\n",
        "data.head(10)"
      ],
      "metadata": {
        "colab": {
          "base_uri": "https://localhost:8080/",
          "height": 363
        },
        "id": "7ZUdDphfIznw",
        "outputId": "0bf293c7-7f60-4c77-ad5f-0916d3d067d9"
      },
      "execution_count": 15,
      "outputs": [
        {
          "output_type": "execute_result",
          "data": {
            "text/plain": [
              "   BillNo                             Itemname  Quantity                Date  \\\n",
              "0  536365   WHITE HANGING HEART T-LIGHT HOLDER         6 2010-01-12 08:26:00   \n",
              "1  536365                  WHITE METAL LANTERN         6 2010-01-12 08:26:00   \n",
              "2  536365       CREAM CUPID HEARTS COAT HANGER         8 2010-01-12 08:26:00   \n",
              "3  536365  KNITTED UNION FLAG HOT WATER BOTTLE         6 2010-01-12 08:26:00   \n",
              "4  536365       RED WOOLLY HOTTIE WHITE HEART.         6 2010-01-12 08:26:00   \n",
              "5  536365         SET 7 BABUSHKA NESTING BOXES         2 2010-01-12 08:26:00   \n",
              "6  536365    GLASS STAR FROSTED T-LIGHT HOLDER         6 2010-01-12 08:26:00   \n",
              "7  536366               HAND WARMER UNION JACK         6 2010-01-12 08:28:00   \n",
              "8  536366            HAND WARMER RED POLKA DOT         6 2010-01-12 08:28:00   \n",
              "9  536367        ASSORTED COLOUR BIRD ORNAMENT        32 2010-01-12 08:34:00   \n",
              "\n",
              "  Price  CustomerID         Country  \n",
              "0  2,55     17850.0  United Kingdom  \n",
              "1  3,39     17850.0  United Kingdom  \n",
              "2  2,75     17850.0  United Kingdom  \n",
              "3  3,39     17850.0  United Kingdom  \n",
              "4  3,39     17850.0  United Kingdom  \n",
              "5  7,65     17850.0  United Kingdom  \n",
              "6  4,25     17850.0  United Kingdom  \n",
              "7  1,85     17850.0  United Kingdom  \n",
              "8  1,85     17850.0  United Kingdom  \n",
              "9  1,69     13047.0  United Kingdom  "
            ],
            "text/html": [
              "\n",
              "  <div id=\"df-e7a5aef3-b9c2-4b52-bc45-5096986a6fb9\">\n",
              "    <div class=\"colab-df-container\">\n",
              "      <div>\n",
              "<style scoped>\n",
              "    .dataframe tbody tr th:only-of-type {\n",
              "        vertical-align: middle;\n",
              "    }\n",
              "\n",
              "    .dataframe tbody tr th {\n",
              "        vertical-align: top;\n",
              "    }\n",
              "\n",
              "    .dataframe thead th {\n",
              "        text-align: right;\n",
              "    }\n",
              "</style>\n",
              "<table border=\"1\" class=\"dataframe\">\n",
              "  <thead>\n",
              "    <tr style=\"text-align: right;\">\n",
              "      <th></th>\n",
              "      <th>BillNo</th>\n",
              "      <th>Itemname</th>\n",
              "      <th>Quantity</th>\n",
              "      <th>Date</th>\n",
              "      <th>Price</th>\n",
              "      <th>CustomerID</th>\n",
              "      <th>Country</th>\n",
              "    </tr>\n",
              "  </thead>\n",
              "  <tbody>\n",
              "    <tr>\n",
              "      <th>0</th>\n",
              "      <td>536365</td>\n",
              "      <td>WHITE HANGING HEART T-LIGHT HOLDER</td>\n",
              "      <td>6</td>\n",
              "      <td>2010-01-12 08:26:00</td>\n",
              "      <td>2,55</td>\n",
              "      <td>17850.0</td>\n",
              "      <td>United Kingdom</td>\n",
              "    </tr>\n",
              "    <tr>\n",
              "      <th>1</th>\n",
              "      <td>536365</td>\n",
              "      <td>WHITE METAL LANTERN</td>\n",
              "      <td>6</td>\n",
              "      <td>2010-01-12 08:26:00</td>\n",
              "      <td>3,39</td>\n",
              "      <td>17850.0</td>\n",
              "      <td>United Kingdom</td>\n",
              "    </tr>\n",
              "    <tr>\n",
              "      <th>2</th>\n",
              "      <td>536365</td>\n",
              "      <td>CREAM CUPID HEARTS COAT HANGER</td>\n",
              "      <td>8</td>\n",
              "      <td>2010-01-12 08:26:00</td>\n",
              "      <td>2,75</td>\n",
              "      <td>17850.0</td>\n",
              "      <td>United Kingdom</td>\n",
              "    </tr>\n",
              "    <tr>\n",
              "      <th>3</th>\n",
              "      <td>536365</td>\n",
              "      <td>KNITTED UNION FLAG HOT WATER BOTTLE</td>\n",
              "      <td>6</td>\n",
              "      <td>2010-01-12 08:26:00</td>\n",
              "      <td>3,39</td>\n",
              "      <td>17850.0</td>\n",
              "      <td>United Kingdom</td>\n",
              "    </tr>\n",
              "    <tr>\n",
              "      <th>4</th>\n",
              "      <td>536365</td>\n",
              "      <td>RED WOOLLY HOTTIE WHITE HEART.</td>\n",
              "      <td>6</td>\n",
              "      <td>2010-01-12 08:26:00</td>\n",
              "      <td>3,39</td>\n",
              "      <td>17850.0</td>\n",
              "      <td>United Kingdom</td>\n",
              "    </tr>\n",
              "    <tr>\n",
              "      <th>5</th>\n",
              "      <td>536365</td>\n",
              "      <td>SET 7 BABUSHKA NESTING BOXES</td>\n",
              "      <td>2</td>\n",
              "      <td>2010-01-12 08:26:00</td>\n",
              "      <td>7,65</td>\n",
              "      <td>17850.0</td>\n",
              "      <td>United Kingdom</td>\n",
              "    </tr>\n",
              "    <tr>\n",
              "      <th>6</th>\n",
              "      <td>536365</td>\n",
              "      <td>GLASS STAR FROSTED T-LIGHT HOLDER</td>\n",
              "      <td>6</td>\n",
              "      <td>2010-01-12 08:26:00</td>\n",
              "      <td>4,25</td>\n",
              "      <td>17850.0</td>\n",
              "      <td>United Kingdom</td>\n",
              "    </tr>\n",
              "    <tr>\n",
              "      <th>7</th>\n",
              "      <td>536366</td>\n",
              "      <td>HAND WARMER UNION JACK</td>\n",
              "      <td>6</td>\n",
              "      <td>2010-01-12 08:28:00</td>\n",
              "      <td>1,85</td>\n",
              "      <td>17850.0</td>\n",
              "      <td>United Kingdom</td>\n",
              "    </tr>\n",
              "    <tr>\n",
              "      <th>8</th>\n",
              "      <td>536366</td>\n",
              "      <td>HAND WARMER RED POLKA DOT</td>\n",
              "      <td>6</td>\n",
              "      <td>2010-01-12 08:28:00</td>\n",
              "      <td>1,85</td>\n",
              "      <td>17850.0</td>\n",
              "      <td>United Kingdom</td>\n",
              "    </tr>\n",
              "    <tr>\n",
              "      <th>9</th>\n",
              "      <td>536367</td>\n",
              "      <td>ASSORTED COLOUR BIRD ORNAMENT</td>\n",
              "      <td>32</td>\n",
              "      <td>2010-01-12 08:34:00</td>\n",
              "      <td>1,69</td>\n",
              "      <td>13047.0</td>\n",
              "      <td>United Kingdom</td>\n",
              "    </tr>\n",
              "  </tbody>\n",
              "</table>\n",
              "</div>\n",
              "      <button class=\"colab-df-convert\" onclick=\"convertToInteractive('df-e7a5aef3-b9c2-4b52-bc45-5096986a6fb9')\"\n",
              "              title=\"Convert this dataframe to an interactive table.\"\n",
              "              style=\"display:none;\">\n",
              "        \n",
              "  <svg xmlns=\"http://www.w3.org/2000/svg\" height=\"24px\"viewBox=\"0 0 24 24\"\n",
              "       width=\"24px\">\n",
              "    <path d=\"M0 0h24v24H0V0z\" fill=\"none\"/>\n",
              "    <path d=\"M18.56 5.44l.94 2.06.94-2.06 2.06-.94-2.06-.94-.94-2.06-.94 2.06-2.06.94zm-11 1L8.5 8.5l.94-2.06 2.06-.94-2.06-.94L8.5 2.5l-.94 2.06-2.06.94zm10 10l.94 2.06.94-2.06 2.06-.94-2.06-.94-.94-2.06-.94 2.06-2.06.94z\"/><path d=\"M17.41 7.96l-1.37-1.37c-.4-.4-.92-.59-1.43-.59-.52 0-1.04.2-1.43.59L10.3 9.45l-7.72 7.72c-.78.78-.78 2.05 0 2.83L4 21.41c.39.39.9.59 1.41.59.51 0 1.02-.2 1.41-.59l7.78-7.78 2.81-2.81c.8-.78.8-2.07 0-2.86zM5.41 20L4 18.59l7.72-7.72 1.47 1.35L5.41 20z\"/>\n",
              "  </svg>\n",
              "      </button>\n",
              "      \n",
              "  <style>\n",
              "    .colab-df-container {\n",
              "      display:flex;\n",
              "      flex-wrap:wrap;\n",
              "      gap: 12px;\n",
              "    }\n",
              "\n",
              "    .colab-df-convert {\n",
              "      background-color: #E8F0FE;\n",
              "      border: none;\n",
              "      border-radius: 50%;\n",
              "      cursor: pointer;\n",
              "      display: none;\n",
              "      fill: #1967D2;\n",
              "      height: 32px;\n",
              "      padding: 0 0 0 0;\n",
              "      width: 32px;\n",
              "    }\n",
              "\n",
              "    .colab-df-convert:hover {\n",
              "      background-color: #E2EBFA;\n",
              "      box-shadow: 0px 1px 2px rgba(60, 64, 67, 0.3), 0px 1px 3px 1px rgba(60, 64, 67, 0.15);\n",
              "      fill: #174EA6;\n",
              "    }\n",
              "\n",
              "    [theme=dark] .colab-df-convert {\n",
              "      background-color: #3B4455;\n",
              "      fill: #D2E3FC;\n",
              "    }\n",
              "\n",
              "    [theme=dark] .colab-df-convert:hover {\n",
              "      background-color: #434B5C;\n",
              "      box-shadow: 0px 1px 3px 1px rgba(0, 0, 0, 0.15);\n",
              "      filter: drop-shadow(0px 1px 2px rgba(0, 0, 0, 0.3));\n",
              "      fill: #FFFFFF;\n",
              "    }\n",
              "  </style>\n",
              "\n",
              "      <script>\n",
              "        const buttonEl =\n",
              "          document.querySelector('#df-e7a5aef3-b9c2-4b52-bc45-5096986a6fb9 button.colab-df-convert');\n",
              "        buttonEl.style.display =\n",
              "          google.colab.kernel.accessAllowed ? 'block' : 'none';\n",
              "\n",
              "        async function convertToInteractive(key) {\n",
              "          const element = document.querySelector('#df-e7a5aef3-b9c2-4b52-bc45-5096986a6fb9');\n",
              "          const dataTable =\n",
              "            await google.colab.kernel.invokeFunction('convertToInteractive',\n",
              "                                                     [key], {});\n",
              "          if (!dataTable) return;\n",
              "\n",
              "          const docLinkHtml = 'Like what you see? Visit the ' +\n",
              "            '<a target=\"_blank\" href=https://colab.research.google.com/notebooks/data_table.ipynb>data table notebook</a>'\n",
              "            + ' to learn more about interactive tables.';\n",
              "          element.innerHTML = '';\n",
              "          dataTable['output_type'] = 'display_data';\n",
              "          await google.colab.output.renderOutput(dataTable, element);\n",
              "          const docLink = document.createElement('div');\n",
              "          docLink.innerHTML = docLinkHtml;\n",
              "          element.appendChild(docLink);\n",
              "        }\n",
              "      </script>\n",
              "    </div>\n",
              "  </div>\n",
              "  "
            ]
          },
          "metadata": {},
          "execution_count": 15
        }
      ]
    },
    {
      "cell_type": "code",
      "source": [
        "print(\"Menampilkan data ke 5 sampai kurang dari 10 dalam satu baris:\")\n",
        "\n",
        "print(data.iloc[5:10]) #Iloc berfungsi Menampilkan data dalam range tertentu"
      ],
      "metadata": {
        "colab": {
          "base_uri": "https://localhost:8080/"
        },
        "id": "SdwWDkvBJBDi",
        "outputId": "e685f3e6-6b76-487d-bc75-35448f88db2f"
      },
      "execution_count": 16,
      "outputs": [
        {
          "output_type": "stream",
          "name": "stdout",
          "text": [
            "Menampilkan data ke 5 sampai kurang dari 10 dalam satu baris:\n",
            "   BillNo                           Itemname  Quantity                Date  \\\n",
            "5  536365       SET 7 BABUSHKA NESTING BOXES         2 2010-01-12 08:26:00   \n",
            "6  536365  GLASS STAR FROSTED T-LIGHT HOLDER         6 2010-01-12 08:26:00   \n",
            "7  536366             HAND WARMER UNION JACK         6 2010-01-12 08:28:00   \n",
            "8  536366          HAND WARMER RED POLKA DOT         6 2010-01-12 08:28:00   \n",
            "9  536367      ASSORTED COLOUR BIRD ORNAMENT        32 2010-01-12 08:34:00   \n",
            "\n",
            "  Price  CustomerID         Country  \n",
            "5  7,65     17850.0  United Kingdom  \n",
            "6  4,25     17850.0  United Kingdom  \n",
            "7  1,85     17850.0  United Kingdom  \n",
            "8  1,85     17850.0  United Kingdom  \n",
            "9  1,69     13047.0  United Kingdom  \n"
          ]
        }
      ]
    },
    {
      "cell_type": "markdown",
      "source": [
        "### Menghapus nilai null"
      ],
      "metadata": {
        "id": "-lhgMKNlCbfm"
      }
    },
    {
      "cell_type": "code",
      "source": [
        "#The above process is not generally advised because it will delete all observations where any of variables is missing ultimately reducing the size of our dataset and quality of our model.\n",
        "data = data.dropna()"
      ],
      "metadata": {
        "id": "J1Vs3TRks7EW"
      },
      "execution_count": 17,
      "outputs": []
    },
    {
      "cell_type": "code",
      "source": [
        "#Checking how much data is left after using .dropna() method\n",
        "data.shape"
      ],
      "metadata": {
        "colab": {
          "base_uri": "https://localhost:8080/"
        },
        "id": "PZZQLvftcBXZ",
        "outputId": "3fe7fb3d-720d-4d33-9cab-481137242fda"
      },
      "execution_count": 18,
      "outputs": [
        {
          "output_type": "execute_result",
          "data": {
            "text/plain": [
              "(388023, 7)"
            ]
          },
          "metadata": {},
          "execution_count": 18
        }
      ]
    },
    {
      "cell_type": "markdown",
      "source": [
        "### Menghapus spasi, normalisasi huruf kecil, mengubah tipe data"
      ],
      "metadata": {
        "id": "KpdOywERCeSc"
      }
    },
    {
      "cell_type": "code",
      "source": [
        "# Preprocessing\n",
        "data[\"Itemname\"] = data[\"Itemname\"].str.strip() # hapus spasi yang tidak perlu\n",
        "data['Itemname'] = data[\"Itemname\"].str.lower() # normalisasi huruf kecil\n",
        "data[\"BillNo\"] = data[\"BillNo\"].astype(\"str\") # Ubah tipe data\n",
        "data.head()"
      ],
      "metadata": {
        "colab": {
          "base_uri": "https://localhost:8080/",
          "height": 310
        },
        "id": "68mOD0dhXrRf",
        "outputId": "64d408ce-7c22-4b8c-d030-c02adce1804f"
      },
      "execution_count": 19,
      "outputs": [
        {
          "output_type": "stream",
          "name": "stderr",
          "text": [
            "/usr/local/lib/python3.7/dist-packages/ipykernel_launcher.py:2: SettingWithCopyWarning: \n",
            "A value is trying to be set on a copy of a slice from a DataFrame.\n",
            "Try using .loc[row_indexer,col_indexer] = value instead\n",
            "\n",
            "See the caveats in the documentation: https://pandas.pydata.org/pandas-docs/stable/user_guide/indexing.html#returning-a-view-versus-a-copy\n",
            "  \n"
          ]
        },
        {
          "output_type": "execute_result",
          "data": {
            "text/plain": [
              "   BillNo                             Itemname  Quantity                Date  \\\n",
              "0  536365   white hanging heart t-light holder         6 2010-01-12 08:26:00   \n",
              "1  536365                  white metal lantern         6 2010-01-12 08:26:00   \n",
              "2  536365       cream cupid hearts coat hanger         8 2010-01-12 08:26:00   \n",
              "3  536365  knitted union flag hot water bottle         6 2010-01-12 08:26:00   \n",
              "4  536365       red woolly hottie white heart.         6 2010-01-12 08:26:00   \n",
              "\n",
              "  Price  CustomerID         Country  \n",
              "0  2,55     17850.0  United Kingdom  \n",
              "1  3,39     17850.0  United Kingdom  \n",
              "2  2,75     17850.0  United Kingdom  \n",
              "3  3,39     17850.0  United Kingdom  \n",
              "4  3,39     17850.0  United Kingdom  "
            ],
            "text/html": [
              "\n",
              "  <div id=\"df-b98b8e51-13e5-4529-a88e-a7f230e5a486\">\n",
              "    <div class=\"colab-df-container\">\n",
              "      <div>\n",
              "<style scoped>\n",
              "    .dataframe tbody tr th:only-of-type {\n",
              "        vertical-align: middle;\n",
              "    }\n",
              "\n",
              "    .dataframe tbody tr th {\n",
              "        vertical-align: top;\n",
              "    }\n",
              "\n",
              "    .dataframe thead th {\n",
              "        text-align: right;\n",
              "    }\n",
              "</style>\n",
              "<table border=\"1\" class=\"dataframe\">\n",
              "  <thead>\n",
              "    <tr style=\"text-align: right;\">\n",
              "      <th></th>\n",
              "      <th>BillNo</th>\n",
              "      <th>Itemname</th>\n",
              "      <th>Quantity</th>\n",
              "      <th>Date</th>\n",
              "      <th>Price</th>\n",
              "      <th>CustomerID</th>\n",
              "      <th>Country</th>\n",
              "    </tr>\n",
              "  </thead>\n",
              "  <tbody>\n",
              "    <tr>\n",
              "      <th>0</th>\n",
              "      <td>536365</td>\n",
              "      <td>white hanging heart t-light holder</td>\n",
              "      <td>6</td>\n",
              "      <td>2010-01-12 08:26:00</td>\n",
              "      <td>2,55</td>\n",
              "      <td>17850.0</td>\n",
              "      <td>United Kingdom</td>\n",
              "    </tr>\n",
              "    <tr>\n",
              "      <th>1</th>\n",
              "      <td>536365</td>\n",
              "      <td>white metal lantern</td>\n",
              "      <td>6</td>\n",
              "      <td>2010-01-12 08:26:00</td>\n",
              "      <td>3,39</td>\n",
              "      <td>17850.0</td>\n",
              "      <td>United Kingdom</td>\n",
              "    </tr>\n",
              "    <tr>\n",
              "      <th>2</th>\n",
              "      <td>536365</td>\n",
              "      <td>cream cupid hearts coat hanger</td>\n",
              "      <td>8</td>\n",
              "      <td>2010-01-12 08:26:00</td>\n",
              "      <td>2,75</td>\n",
              "      <td>17850.0</td>\n",
              "      <td>United Kingdom</td>\n",
              "    </tr>\n",
              "    <tr>\n",
              "      <th>3</th>\n",
              "      <td>536365</td>\n",
              "      <td>knitted union flag hot water bottle</td>\n",
              "      <td>6</td>\n",
              "      <td>2010-01-12 08:26:00</td>\n",
              "      <td>3,39</td>\n",
              "      <td>17850.0</td>\n",
              "      <td>United Kingdom</td>\n",
              "    </tr>\n",
              "    <tr>\n",
              "      <th>4</th>\n",
              "      <td>536365</td>\n",
              "      <td>red woolly hottie white heart.</td>\n",
              "      <td>6</td>\n",
              "      <td>2010-01-12 08:26:00</td>\n",
              "      <td>3,39</td>\n",
              "      <td>17850.0</td>\n",
              "      <td>United Kingdom</td>\n",
              "    </tr>\n",
              "  </tbody>\n",
              "</table>\n",
              "</div>\n",
              "      <button class=\"colab-df-convert\" onclick=\"convertToInteractive('df-b98b8e51-13e5-4529-a88e-a7f230e5a486')\"\n",
              "              title=\"Convert this dataframe to an interactive table.\"\n",
              "              style=\"display:none;\">\n",
              "        \n",
              "  <svg xmlns=\"http://www.w3.org/2000/svg\" height=\"24px\"viewBox=\"0 0 24 24\"\n",
              "       width=\"24px\">\n",
              "    <path d=\"M0 0h24v24H0V0z\" fill=\"none\"/>\n",
              "    <path d=\"M18.56 5.44l.94 2.06.94-2.06 2.06-.94-2.06-.94-.94-2.06-.94 2.06-2.06.94zm-11 1L8.5 8.5l.94-2.06 2.06-.94-2.06-.94L8.5 2.5l-.94 2.06-2.06.94zm10 10l.94 2.06.94-2.06 2.06-.94-2.06-.94-.94-2.06-.94 2.06-2.06.94z\"/><path d=\"M17.41 7.96l-1.37-1.37c-.4-.4-.92-.59-1.43-.59-.52 0-1.04.2-1.43.59L10.3 9.45l-7.72 7.72c-.78.78-.78 2.05 0 2.83L4 21.41c.39.39.9.59 1.41.59.51 0 1.02-.2 1.41-.59l7.78-7.78 2.81-2.81c.8-.78.8-2.07 0-2.86zM5.41 20L4 18.59l7.72-7.72 1.47 1.35L5.41 20z\"/>\n",
              "  </svg>\n",
              "      </button>\n",
              "      \n",
              "  <style>\n",
              "    .colab-df-container {\n",
              "      display:flex;\n",
              "      flex-wrap:wrap;\n",
              "      gap: 12px;\n",
              "    }\n",
              "\n",
              "    .colab-df-convert {\n",
              "      background-color: #E8F0FE;\n",
              "      border: none;\n",
              "      border-radius: 50%;\n",
              "      cursor: pointer;\n",
              "      display: none;\n",
              "      fill: #1967D2;\n",
              "      height: 32px;\n",
              "      padding: 0 0 0 0;\n",
              "      width: 32px;\n",
              "    }\n",
              "\n",
              "    .colab-df-convert:hover {\n",
              "      background-color: #E2EBFA;\n",
              "      box-shadow: 0px 1px 2px rgba(60, 64, 67, 0.3), 0px 1px 3px 1px rgba(60, 64, 67, 0.15);\n",
              "      fill: #174EA6;\n",
              "    }\n",
              "\n",
              "    [theme=dark] .colab-df-convert {\n",
              "      background-color: #3B4455;\n",
              "      fill: #D2E3FC;\n",
              "    }\n",
              "\n",
              "    [theme=dark] .colab-df-convert:hover {\n",
              "      background-color: #434B5C;\n",
              "      box-shadow: 0px 1px 3px 1px rgba(0, 0, 0, 0.15);\n",
              "      filter: drop-shadow(0px 1px 2px rgba(0, 0, 0, 0.3));\n",
              "      fill: #FFFFFF;\n",
              "    }\n",
              "  </style>\n",
              "\n",
              "      <script>\n",
              "        const buttonEl =\n",
              "          document.querySelector('#df-b98b8e51-13e5-4529-a88e-a7f230e5a486 button.colab-df-convert');\n",
              "        buttonEl.style.display =\n",
              "          google.colab.kernel.accessAllowed ? 'block' : 'none';\n",
              "\n",
              "        async function convertToInteractive(key) {\n",
              "          const element = document.querySelector('#df-b98b8e51-13e5-4529-a88e-a7f230e5a486');\n",
              "          const dataTable =\n",
              "            await google.colab.kernel.invokeFunction('convertToInteractive',\n",
              "                                                     [key], {});\n",
              "          if (!dataTable) return;\n",
              "\n",
              "          const docLinkHtml = 'Like what you see? Visit the ' +\n",
              "            '<a target=\"_blank\" href=https://colab.research.google.com/notebooks/data_table.ipynb>data table notebook</a>'\n",
              "            + ' to learn more about interactive tables.';\n",
              "          element.innerHTML = '';\n",
              "          dataTable['output_type'] = 'display_data';\n",
              "          await google.colab.output.renderOutput(dataTable, element);\n",
              "          const docLink = document.createElement('div');\n",
              "          docLink.innerHTML = docLinkHtml;\n",
              "          element.appendChild(docLink);\n",
              "        }\n",
              "      </script>\n",
              "    </div>\n",
              "  </div>\n",
              "  "
            ]
          },
          "metadata": {},
          "execution_count": 19
        }
      ]
    },
    {
      "cell_type": "code",
      "source": [
        "data['Itemname'].nunique()"
      ],
      "metadata": {
        "id": "gsAPeKbPJ8Hw",
        "colab": {
          "base_uri": "https://localhost:8080/"
        },
        "outputId": "4dee5d08-b392-45a2-f6d1-74fe9deab36f"
      },
      "execution_count": 20,
      "outputs": [
        {
          "output_type": "execute_result",
          "data": {
            "text/plain": [
              "3846"
            ]
          },
          "metadata": {},
          "execution_count": 20
        }
      ]
    },
    {
      "cell_type": "markdown",
      "source": [
        "##Cek perubahan yang terjadi"
      ],
      "metadata": {
        "id": "oRrQSW82y4eC"
      }
    },
    {
      "cell_type": "code",
      "source": [
        "print(data.info())"
      ],
      "metadata": {
        "colab": {
          "base_uri": "https://localhost:8080/"
        },
        "id": "bSxyiY7pylFw",
        "outputId": "04de4cb3-80e5-4e9c-a7c3-0efcff6d5e3c"
      },
      "execution_count": 21,
      "outputs": [
        {
          "output_type": "stream",
          "name": "stdout",
          "text": [
            "<class 'pandas.core.frame.DataFrame'>\n",
            "Int64Index: 388023 entries, 0 to 522063\n",
            "Data columns (total 7 columns):\n",
            " #   Column      Non-Null Count   Dtype         \n",
            "---  ------      --------------   -----         \n",
            " 0   BillNo      388023 non-null  object        \n",
            " 1   Itemname    388023 non-null  object        \n",
            " 2   Quantity    388023 non-null  int64         \n",
            " 3   Date        388023 non-null  datetime64[ns]\n",
            " 4   Price       388023 non-null  object        \n",
            " 5   CustomerID  388023 non-null  float64       \n",
            " 6   Country     388023 non-null  object        \n",
            "dtypes: datetime64[ns](1), float64(1), int64(1), object(4)\n",
            "memory usage: 23.7+ MB\n",
            "None\n"
          ]
        }
      ]
    },
    {
      "cell_type": "markdown",
      "source": [
        "## Data Visualisasi"
      ],
      "metadata": {
        "id": "IHczw6iECmV6"
      }
    },
    {
      "cell_type": "code",
      "source": [
        "# rank the top 10 best-selling items\n",
        "data.Itemname.value_counts(normalize=True)[:10]"
      ],
      "metadata": {
        "colab": {
          "base_uri": "https://localhost:8080/"
        },
        "id": "hk6LISWdG0La",
        "outputId": "2480cd4f-36fd-477a-f5c4-d078402d533d"
      },
      "execution_count": 22,
      "outputs": [
        {
          "output_type": "execute_result",
          "data": {
            "text/plain": [
              "white hanging heart t-light holder    0.005092\n",
              "regency cakestand 3 tier              0.004234\n",
              "jumbo bag red retrospot               0.004100\n",
              "assorted colour bird ornament         0.003585\n",
              "party bunting                         0.003528\n",
              "lunch bag red retrospot               0.003332\n",
              "set of 3 cake tins pantry design      0.002899\n",
              "lunch bag  black skull.               0.002814\n",
              "postage                               0.002688\n",
              "pack of 72 retrospot cake cases       0.002657\n",
              "Name: Itemname, dtype: float64"
            ]
          },
          "metadata": {},
          "execution_count": 22
        }
      ]
    },
    {
      "cell_type": "code",
      "source": [
        "sns.countplot(x = 'Itemname', data = data, order = data['Itemname'].value_counts().iloc[:15].index)\n",
        "plt.xticks(rotation=90)"
      ],
      "metadata": {
        "colab": {
          "base_uri": "https://localhost:8080/",
          "height": 473
        },
        "id": "pdWAtn3sA5lH",
        "outputId": "fe673ff2-ce6d-4c72-b2d5-1857e27cd377"
      },
      "execution_count": 24,
      "outputs": [
        {
          "output_type": "execute_result",
          "data": {
            "text/plain": [
              "(array([ 0,  1,  2,  3,  4,  5,  6,  7,  8,  9, 10, 11, 12, 13, 14]),\n",
              " <a list of 15 Text major ticklabel objects>)"
            ]
          },
          "metadata": {},
          "execution_count": 24
        },
        {
          "output_type": "display_data",
          "data": {
            "text/plain": [
              "<Figure size 432x288 with 1 Axes>"
            ],
            "image/png": "[encoded data removed]"
          },
          "metadata": {
            "needs_background": "light"
          }
        }
      ]
    },
    {
      "cell_type": "markdown",
      "source": [
        "## Market Basket Analysis"
      ],
      "metadata": {
        "id": "eGBeHmrGGKut"
      }
    },
    {
      "cell_type": "code",
      "source": [
        "# Library\n",
        "\n",
        "from mlxtend.preprocessing import TransactionEncoder\n",
        "from mlxtend.frequent_patterns import association_rules, apriori"
      ],
      "metadata": {
        "id": "D-Bc6aGPH9Y8"
      },
      "execution_count": 25,
      "outputs": []
    },
    {
      "cell_type": "code",
      "source": [
        "data = data.groupby(['BillNo','Itemname']).size().reset_index(name='count')\n",
        "basket = (data.groupby(['BillNo','Itemname'])['count']\n",
        "          .sum().unstack().reset_index().fillna(0)\n",
        "          .set_index('BillNo','Itemname'))\n",
        "#The encoding function\n",
        "def encode_units(x):\n",
        "    if x <= 0:\n",
        "        return 0\n",
        "    if x >= 1:\n",
        "        return 1\n",
        "basket_sets = basket.applymap(encode_units)\n",
        "basket_sets.head()"
      ],
      "metadata": {
        "colab": {
          "base_uri": "https://localhost:8080/",
          "height": 452
        },
        "id": "540PwgISMiHh",
        "outputId": "715ce8a8-274a-4605-8526-67472c72cfc1"
      },
      "execution_count": 26,
      "outputs": [
        {
          "output_type": "stream",
          "name": "stderr",
          "text": [
            "/usr/local/lib/python3.7/dist-packages/ipykernel_launcher.py:4: FutureWarning: In a future version of pandas all arguments of DataFrame.set_index except for the argument 'keys' will be keyword-only\n",
            "  after removing the cwd from sys.path.\n"
          ]
        },
        {
          "output_type": "execute_result",
          "data": {
            "text/plain": [
              "Itemname  10 colour spaceboy pen  12 coloured party balloons  \\\n",
              "BillNo                                                         \n",
              "536365                         0                           0   \n",
              "536366                         0                           0   \n",
              "536367                         0                           0   \n",
              "536368                         0                           0   \n",
              "536369                         0                           0   \n",
              "\n",
              "Itemname  12 daisy pegs in wood box  12 egg house painted wood  \\\n",
              "BillNo                                                           \n",
              "536365                            0                          0   \n",
              "536366                            0                          0   \n",
              "536367                            0                          0   \n",
              "536368                            0                          0   \n",
              "536369                            0                          0   \n",
              "\n",
              "Itemname  12 hanging eggs hand painted  12 ivory rose peg place settings  \\\n",
              "BillNo                                                                     \n",
              "536365                               0                                 0   \n",
              "536366                               0                                 0   \n",
              "536367                               0                                 0   \n",
              "536368                               0                                 0   \n",
              "536369                               0                                 0   \n",
              "\n",
              "Itemname  12 message cards with envelopes  12 pencil small tube woodland  \\\n",
              "BillNo                                                                     \n",
              "536365                                  0                              0   \n",
              "536366                                  0                              0   \n",
              "536367                                  0                              0   \n",
              "536368                                  0                              0   \n",
              "536369                                  0                              0   \n",
              "\n",
              "Itemname  12 pencils small tube red retrospot  12 pencils small tube skull  \\\n",
              "BillNo                                                                       \n",
              "536365                                      0                            0   \n",
              "536366                                      0                            0   \n",
              "536367                                      0                            0   \n",
              "536368                                      0                            0   \n",
              "536369                                      0                            0   \n",
              "\n",
              "Itemname  ...  zinc star t-light holder  zinc sweetheart soap dish  \\\n",
              "BillNo    ...                                                        \n",
              "536365    ...                         0                          0   \n",
              "536366    ...                         0                          0   \n",
              "536367    ...                         0                          0   \n",
              "536368    ...                         0                          0   \n",
              "536369    ...                         0                          0   \n",
              "\n",
              "Itemname  zinc sweetheart wire letter rack  zinc t-light holder star large  \\\n",
              "BillNo                                                                       \n",
              "536365                                   0                               0   \n",
              "536366                                   0                               0   \n",
              "536367                                   0                               0   \n",
              "536368                                   0                               0   \n",
              "536369                                   0                               0   \n",
              "\n",
              "Itemname  zinc t-light holder stars large  zinc t-light holder stars small  \\\n",
              "BillNo                                                                       \n",
              "536365                                  0                                0   \n",
              "536366                                  0                                0   \n",
              "536367                                  0                                0   \n",
              "536368                                  0                                0   \n",
              "536369                                  0                                0   \n",
              "\n",
              "Itemname  zinc top  2 door wooden shelf  zinc willie winkie  candle stick  \\\n",
              "BillNo                                                                      \n",
              "536365                                0                                 0   \n",
              "536366                                0                                 0   \n",
              "536367                                0                                 0   \n",
              "536368                                0                                 0   \n",
              "536369                                0                                 0   \n",
              "\n",
              "Itemname  zinc wire kitchen organiser  zinc wire sweetheart letter tray  \n",
              "BillNo                                                                   \n",
              "536365                              0                                 0  \n",
              "536366                              0                                 0  \n",
              "536367                              0                                 0  \n",
              "536368                              0                                 0  \n",
              "536369                              0                                 0  \n",
              "\n",
              "[5 rows x 3846 columns]"
            ],
            "text/html": [
              "\n",
              "  <div id=\"df-9f6d3700-89a1-4d96-8052-f2c77e3cff72\">\n",
              "    <div class=\"colab-df-container\">\n",
              "      <div>\n",
              "<style scoped>\n",
              "    .dataframe tbody tr th:only-of-type {\n",
              "        vertical-align: middle;\n",
              "    }\n",
              "\n",
              "    .dataframe tbody tr th {\n",
              "        vertical-align: top;\n",
              "    }\n",
              "\n",
              "    .dataframe thead th {\n",
              "        text-align: right;\n",
              "    }\n",
              "</style>\n",
              "<table border=\"1\" class=\"dataframe\">\n",
              "  <thead>\n",
              "    <tr style=\"text-align: right;\">\n",
              "      <th>Itemname</th>\n",
              "      <th>10 colour spaceboy pen</th>\n",
              "      <th>12 coloured party balloons</th>\n",
              "      <th>12 daisy pegs in wood box</th>\n",
              "      <th>12 egg house painted wood</th>\n",
              "      <th>12 hanging eggs hand painted</th>\n",
              "      <th>12 ivory rose peg place settings</th>\n",
              "      <th>12 message cards with envelopes</th>\n",
              "      <th>12 pencil small tube woodland</th>\n",
              "      <th>12 pencils small tube red retrospot</th>\n",
              "      <th>12 pencils small tube skull</th>\n",
              "      <th>...</th>\n",
              "      <th>zinc star t-light holder</th>\n",
              "      <th>zinc sweetheart soap dish</th>\n",
              "      <th>zinc sweetheart wire letter rack</th>\n",
              "      <th>zinc t-light holder star large</th>\n",
              "      <th>zinc t-light holder stars large</th>\n",
              "      <th>zinc t-light holder stars small</th>\n",
              "      <th>zinc top  2 door wooden shelf</th>\n",
              "      <th>zinc willie winkie  candle stick</th>\n",
              "      <th>zinc wire kitchen organiser</th>\n",
              "      <th>zinc wire sweetheart letter tray</th>\n",
              "    </tr>\n",
              "    <tr>\n",
              "      <th>BillNo</th>\n",
              "      <th></th>\n",
              "      <th></th>\n",
              "      <th></th>\n",
              "      <th></th>\n",
              "      <th></th>\n",
              "      <th></th>\n",
              "      <th></th>\n",
              "      <th></th>\n",
              "      <th></th>\n",
              "      <th></th>\n",
              "      <th></th>\n",
              "      <th></th>\n",
              "      <th></th>\n",
              "      <th></th>\n",
              "      <th></th>\n",
              "      <th></th>\n",
              "      <th></th>\n",
              "      <th></th>\n",
              "      <th></th>\n",
              "      <th></th>\n",
              "      <th></th>\n",
              "    </tr>\n",
              "  </thead>\n",
              "  <tbody>\n",
              "    <tr>\n",
              "      <th>536365</th>\n",
              "      <td>0</td>\n",
              "      <td>0</td>\n",
              "      <td>0</td>\n",
              "      <td>0</td>\n",
              "      <td>0</td>\n",
              "      <td>0</td>\n",
              "      <td>0</td>\n",
              "      <td>0</td>\n",
              "      <td>0</td>\n",
              "      <td>0</td>\n",
              "      <td>...</td>\n",
              "      <td>0</td>\n",
              "      <td>0</td>\n",
              "      <td>0</td>\n",
              "      <td>0</td>\n",
              "      <td>0</td>\n",
              "      <td>0</td>\n",
              "      <td>0</td>\n",
              "      <td>0</td>\n",
              "      <td>0</td>\n",
              "      <td>0</td>\n",
              "    </tr>\n",
              "    <tr>\n",
              "      <th>536366</th>\n",
              "      <td>0</td>\n",
              "      <td>0</td>\n",
              "      <td>0</td>\n",
              "      <td>0</td>\n",
              "      <td>0</td>\n",
              "      <td>0</td>\n",
              "      <td>0</td>\n",
              "      <td>0</td>\n",
              "      <td>0</td>\n",
              "      <td>0</td>\n",
              "      <td>...</td>\n",
              "      <td>0</td>\n",
              "      <td>0</td>\n",
              "      <td>0</td>\n",
              "      <td>0</td>\n",
              "      <td>0</td>\n",
              "      <td>0</td>\n",
              "      <td>0</td>\n",
              "      <td>0</td>\n",
              "      <td>0</td>\n",
              "      <td>0</td>\n",
              "    </tr>\n",
              "    <tr>\n",
              "      <th>536367</th>\n",
              "      <td>0</td>\n",
              "      <td>0</td>\n",
              "      <td>0</td>\n",
              "      <td>0</td>\n",
              "      <td>0</td>\n",
              "      <td>0</td>\n",
              "      <td>0</td>\n",
              "      <td>0</td>\n",
              "      <td>0</td>\n",
              "      <td>0</td>\n",
              "      <td>...</td>\n",
              "      <td>0</td>\n",
              "      <td>0</td>\n",
              "      <td>0</td>\n",
              "      <td>0</td>\n",
              "      <td>0</td>\n",
              "      <td>0</td>\n",
              "      <td>0</td>\n",
              "      <td>0</td>\n",
              "      <td>0</td>\n",
              "      <td>0</td>\n",
              "    </tr>\n",
              "    <tr>\n",
              "      <th>536368</th>\n",
              "      <td>0</td>\n",
              "      <td>0</td>\n",
              "      <td>0</td>\n",
              "      <td>0</td>\n",
              "      <td>0</td>\n",
              "      <td>0</td>\n",
              "      <td>0</td>\n",
              "      <td>0</td>\n",
              "      <td>0</td>\n",
              "      <td>0</td>\n",
              "      <td>...</td>\n",
              "      <td>0</td>\n",
              "      <td>0</td>\n",
              "      <td>0</td>\n",
              "      <td>0</td>\n",
              "      <td>0</td>\n",
              "      <td>0</td>\n",
              "      <td>0</td>\n",
              "      <td>0</td>\n",
              "      <td>0</td>\n",
              "      <td>0</td>\n",
              "    </tr>\n",
              "    <tr>\n",
              "      <th>536369</th>\n",
              "      <td>0</td>\n",
              "      <td>0</td>\n",
              "      <td>0</td>\n",
              "      <td>0</td>\n",
              "      <td>0</td>\n",
              "      <td>0</td>\n",
              "      <td>0</td>\n",
              "      <td>0</td>\n",
              "      <td>0</td>\n",
              "      <td>0</td>\n",
              "      <td>...</td>\n",
              "      <td>0</td>\n",
              "      <td>0</td>\n",
              "      <td>0</td>\n",
              "      <td>0</td>\n",
              "      <td>0</td>\n",
              "      <td>0</td>\n",
              "      <td>0</td>\n",
              "      <td>0</td>\n",
              "      <td>0</td>\n",
              "      <td>0</td>\n",
              "    </tr>\n",
              "  </tbody>\n",
              "</table>\n",
              "<p>5 rows × 3846 columns</p>\n",
              "</div>\n",
              "      <button class=\"colab-df-convert\" onclick=\"convertToInteractive('df-9f6d3700-89a1-4d96-8052-f2c77e3cff72')\"\n",
              "              title=\"Convert this dataframe to an interactive table.\"\n",
              "              style=\"display:none;\">\n",
              "        \n",
              "  <svg xmlns=\"http://www.w3.org/2000/svg\" height=\"24px\"viewBox=\"0 0 24 24\"\n",
              "       width=\"24px\">\n",
              "    <path d=\"M0 0h24v24H0V0z\" fill=\"none\"/>\n",
              "    <path d=\"M18.56 5.44l.94 2.06.94-2.06 2.06-.94-2.06-.94-.94-2.06-.94 2.06-2.06.94zm-11 1L8.5 8.5l.94-2.06 2.06-.94-2.06-.94L8.5 2.5l-.94 2.06-2.06.94zm10 10l.94 2.06.94-2.06 2.06-.94-2.06-.94-.94-2.06-.94 2.06-2.06.94z\"/><path d=\"M17.41 7.96l-1.37-1.37c-.4-.4-.92-.59-1.43-.59-.52 0-1.04.2-1.43.59L10.3 9.45l-7.72 7.72c-.78.78-.78 2.05 0 2.83L4 21.41c.39.39.9.59 1.41.59.51 0 1.02-.2 1.41-.59l7.78-7.78 2.81-2.81c.8-.78.8-2.07 0-2.86zM5.41 20L4 18.59l7.72-7.72 1.47 1.35L5.41 20z\"/>\n",
              "  </svg>\n",
              "      </button>\n",
              "      \n",
              "  <style>\n",
              "    .colab-df-container {\n",
              "      display:flex;\n",
              "      flex-wrap:wrap;\n",
              "      gap: 12px;\n",
              "    }\n",
              "\n",
              "    .colab-df-convert {\n",
              "      background-color: #E8F0FE;\n",
              "      border: none;\n",
              "      border-radius: 50%;\n",
              "      cursor: pointer;\n",
              "      display: none;\n",
              "      fill: #1967D2;\n",
              "      height: 32px;\n",
              "      padding: 0 0 0 0;\n",
              "      width: 32px;\n",
              "    }\n",
              "\n",
              "    .colab-df-convert:hover {\n",
              "      background-color: #E2EBFA;\n",
              "      box-shadow: 0px 1px 2px rgba(60, 64, 67, 0.3), 0px 1px 3px 1px rgba(60, 64, 67, 0.15);\n",
              "      fill: #174EA6;\n",
              "    }\n",
              "\n",
              "    [theme=dark] .colab-df-convert {\n",
              "      background-color: #3B4455;\n",
              "      fill: #D2E3FC;\n",
              "    }\n",
              "\n",
              "    [theme=dark] .colab-df-convert:hover {\n",
              "      background-color: #434B5C;\n",
              "      box-shadow: 0px 1px 3px 1px rgba(0, 0, 0, 0.15);\n",
              "      filter: drop-shadow(0px 1px 2px rgba(0, 0, 0, 0.3));\n",
              "      fill: #FFFFFF;\n",
              "    }\n",
              "  </style>\n",
              "\n",
              "      <script>\n",
              "        const buttonEl =\n",
              "          document.querySelector('#df-9f6d3700-89a1-4d96-8052-f2c77e3cff72 button.colab-df-convert');\n",
              "        buttonEl.style.display =\n",
              "          google.colab.kernel.accessAllowed ? 'block' : 'none';\n",
              "\n",
              "        async function convertToInteractive(key) {\n",
              "          const element = document.querySelector('#df-9f6d3700-89a1-4d96-8052-f2c77e3cff72');\n",
              "          const dataTable =\n",
              "            await google.colab.kernel.invokeFunction('convertToInteractive',\n",
              "                                                     [key], {});\n",
              "          if (!dataTable) return;\n",
              "\n",
              "          const docLinkHtml = 'Like what you see? Visit the ' +\n",
              "            '<a target=\"_blank\" href=https://colab.research.google.com/notebooks/data_table.ipynb>data table notebook</a>'\n",
              "            + ' to learn more about interactive tables.';\n",
              "          element.innerHTML = '';\n",
              "          dataTable['output_type'] = 'display_data';\n",
              "          await google.colab.output.renderOutput(dataTable, element);\n",
              "          const docLink = document.createElement('div');\n",
              "          docLink.innerHTML = docLinkHtml;\n",
              "          element.appendChild(docLink);\n",
              "        }\n",
              "      </script>\n",
              "    </div>\n",
              "  </div>\n",
              "  "
            ]
          },
          "metadata": {},
          "execution_count": 26
        }
      ]
    },
    {
      "cell_type": "code",
      "source": [
        "basket_sets.to_csv(\"baskets_sets.csv\") # Export data yang sudah melalui data Pre-Processing ke dalam format CSV"
      ],
      "metadata": {
        "id": "gE44DbPgNBaK"
      },
      "execution_count": 27,
      "outputs": []
    },
    {
      "cell_type": "code",
      "source": [
        "#Menampilkan Kombinasi Produk \n",
        "frequent_itemsets = apriori(basket_sets, min_support=0.01, use_colnames=True)\n",
        "rules = association_rules(frequent_itemsets, metric=\"lift\")\n",
        "rules.sort_values('confidence', ascending = False, inplace = True)\n",
        "rules.head(10)\n",
        "\n",
        "# Catatan X antecendent dan y adalah consequent"
      ],
      "metadata": {
        "colab": {
          "base_uri": "https://localhost:8080/",
          "height": 546
        },
        "id": "Zem7DjB5NL48",
        "outputId": "456c6e1c-9d29-406f-e095-2f4a02546117"
      },
      "execution_count": 28,
      "outputs": [
        {
          "output_type": "execute_result",
          "data": {
            "text/plain": [
              "                                           antecedents  \\\n",
              "910  (pink regency teacup and saucer, roses regency...   \n",
              "604  (pink regency teacup and saucer, roses regency...   \n",
              "912  (pink regency teacup and saucer, green regency...   \n",
              "599  (pink regency teacup and saucer, regency cakes...   \n",
              "506                     (poppy's playhouse livingroom)   \n",
              "905  (pink regency teacup and saucer, regency cakes...   \n",
              "531                          (regency tea plate green)   \n",
              "605  (pink regency teacup and saucer, green regency...   \n",
              "560                      (set/6 red spotty paper cups)   \n",
              "612  (green regency teacup and saucer, regency cake...   \n",
              "\n",
              "                           consequents  antecedent support  \\\n",
              "910  (green regency teacup and saucer)            0.013379   \n",
              "604  (green regency teacup and saucer)            0.022408   \n",
              "912  (roses regency teacup and saucer)            0.013764   \n",
              "599  (green regency teacup and saucer)            0.015801   \n",
              "506        (poppy's playhouse kitchen)            0.013434   \n",
              "905  (roses regency teacup and saucer)            0.015801   \n",
              "531          (regency tea plate roses)            0.013544   \n",
              "605  (roses regency teacup and saucer)            0.023785   \n",
              "560    (set/6 red spotty paper plates)            0.015306   \n",
              "612  (roses regency teacup and saucer)            0.019160   \n",
              "\n",
              "     consequent support   support  confidence       lift  leverage  conviction  \n",
              "910            0.035952  0.012002    0.897119  24.953107  0.011521    9.370545  \n",
              "604            0.035952  0.019986    0.891892  24.807707  0.019180    8.917442  \n",
              "912            0.040412  0.012002    0.872000  21.577842  0.011446    7.496783  \n",
              "599            0.035952  0.013764    0.871080  24.228834  0.013196    7.477884  \n",
              "506            0.018499  0.011452    0.852459  46.080991  0.011203    6.652395  \n",
              "905            0.040412  0.013379    0.846690  20.951538  0.012740    6.259132  \n",
              "531            0.016572  0.011397    0.841463  50.775748  0.011172    6.203160  \n",
              "605            0.040412  0.019986    0.840278  20.792868  0.019025    6.007856  \n",
              "560            0.017398  0.012608    0.823741  47.346860  0.012342    5.574762  \n",
              "612            0.040412  0.015746    0.821839  20.336598  0.014972    5.386076  "
            ],
            "text/html": [
              "\n",
              "  <div id=\"df-b9dd285e-82ec-49c7-9d72-091c9c1c21db\">\n",
              "    <div class=\"colab-df-container\">\n",
              "      <div>\n",
              "<style scoped>\n",
              "    .dataframe tbody tr th:only-of-type {\n",
              "        vertical-align: middle;\n",
              "    }\n",
              "\n",
              "    .dataframe tbody tr th {\n",
              "        vertical-align: top;\n",
              "    }\n",
              "\n",
              "    .dataframe thead th {\n",
              "        text-align: right;\n",
              "    }\n",
              "</style>\n",
              "<table border=\"1\" class=\"dataframe\">\n",
              "  <thead>\n",
              "    <tr style=\"text-align: right;\">\n",
              "      <th></th>\n",
              "      <th>antecedents</th>\n",
              "      <th>consequents</th>\n",
              "      <th>antecedent support</th>\n",
              "      <th>consequent support</th>\n",
              "      <th>support</th>\n",
              "      <th>confidence</th>\n",
              "      <th>lift</th>\n",
              "      <th>leverage</th>\n",
              "      <th>conviction</th>\n",
              "    </tr>\n",
              "  </thead>\n",
              "  <tbody>\n",
              "    <tr>\n",
              "      <th>910</th>\n",
              "      <td>(pink regency teacup and saucer, roses regency...</td>\n",
              "      <td>(green regency teacup and saucer)</td>\n",
              "      <td>0.013379</td>\n",
              "      <td>0.035952</td>\n",
              "      <td>0.012002</td>\n",
              "      <td>0.897119</td>\n",
              "      <td>24.953107</td>\n",
              "      <td>0.011521</td>\n",
              "      <td>9.370545</td>\n",
              "    </tr>\n",
              "    <tr>\n",
              "      <th>604</th>\n",
              "      <td>(pink regency teacup and saucer, roses regency...</td>\n",
              "      <td>(green regency teacup and saucer)</td>\n",
              "      <td>0.022408</td>\n",
              "      <td>0.035952</td>\n",
              "      <td>0.019986</td>\n",
              "      <td>0.891892</td>\n",
              "      <td>24.807707</td>\n",
              "      <td>0.019180</td>\n",
              "      <td>8.917442</td>\n",
              "    </tr>\n",
              "    <tr>\n",
              "      <th>912</th>\n",
              "      <td>(pink regency teacup and saucer, green regency...</td>\n",
              "      <td>(roses regency teacup and saucer)</td>\n",
              "      <td>0.013764</td>\n",
              "      <td>0.040412</td>\n",
              "      <td>0.012002</td>\n",
              "      <td>0.872000</td>\n",
              "      <td>21.577842</td>\n",
              "      <td>0.011446</td>\n",
              "      <td>7.496783</td>\n",
              "    </tr>\n",
              "    <tr>\n",
              "      <th>599</th>\n",
              "      <td>(pink regency teacup and saucer, regency cakes...</td>\n",
              "      <td>(green regency teacup and saucer)</td>\n",
              "      <td>0.015801</td>\n",
              "      <td>0.035952</td>\n",
              "      <td>0.013764</td>\n",
              "      <td>0.871080</td>\n",
              "      <td>24.228834</td>\n",
              "      <td>0.013196</td>\n",
              "      <td>7.477884</td>\n",
              "    </tr>\n",
              "    <tr>\n",
              "      <th>506</th>\n",
              "      <td>(poppy's playhouse livingroom)</td>\n",
              "      <td>(poppy's playhouse kitchen)</td>\n",
              "      <td>0.013434</td>\n",
              "      <td>0.018499</td>\n",
              "      <td>0.011452</td>\n",
              "      <td>0.852459</td>\n",
              "      <td>46.080991</td>\n",
              "      <td>0.011203</td>\n",
              "      <td>6.652395</td>\n",
              "    </tr>\n",
              "    <tr>\n",
              "      <th>905</th>\n",
              "      <td>(pink regency teacup and saucer, regency cakes...</td>\n",
              "      <td>(roses regency teacup and saucer)</td>\n",
              "      <td>0.015801</td>\n",
              "      <td>0.040412</td>\n",
              "      <td>0.013379</td>\n",
              "      <td>0.846690</td>\n",
              "      <td>20.951538</td>\n",
              "      <td>0.012740</td>\n",
              "      <td>6.259132</td>\n",
              "    </tr>\n",
              "    <tr>\n",
              "      <th>531</th>\n",
              "      <td>(regency tea plate green)</td>\n",
              "      <td>(regency tea plate roses)</td>\n",
              "      <td>0.013544</td>\n",
              "      <td>0.016572</td>\n",
              "      <td>0.011397</td>\n",
              "      <td>0.841463</td>\n",
              "      <td>50.775748</td>\n",
              "      <td>0.011172</td>\n",
              "      <td>6.203160</td>\n",
              "    </tr>\n",
              "    <tr>\n",
              "      <th>605</th>\n",
              "      <td>(pink regency teacup and saucer, green regency...</td>\n",
              "      <td>(roses regency teacup and saucer)</td>\n",
              "      <td>0.023785</td>\n",
              "      <td>0.040412</td>\n",
              "      <td>0.019986</td>\n",
              "      <td>0.840278</td>\n",
              "      <td>20.792868</td>\n",
              "      <td>0.019025</td>\n",
              "      <td>6.007856</td>\n",
              "    </tr>\n",
              "    <tr>\n",
              "      <th>560</th>\n",
              "      <td>(set/6 red spotty paper cups)</td>\n",
              "      <td>(set/6 red spotty paper plates)</td>\n",
              "      <td>0.015306</td>\n",
              "      <td>0.017398</td>\n",
              "      <td>0.012608</td>\n",
              "      <td>0.823741</td>\n",
              "      <td>47.346860</td>\n",
              "      <td>0.012342</td>\n",
              "      <td>5.574762</td>\n",
              "    </tr>\n",
              "    <tr>\n",
              "      <th>612</th>\n",
              "      <td>(green regency teacup and saucer, regency cake...</td>\n",
              "      <td>(roses regency teacup and saucer)</td>\n",
              "      <td>0.019160</td>\n",
              "      <td>0.040412</td>\n",
              "      <td>0.015746</td>\n",
              "      <td>0.821839</td>\n",
              "      <td>20.336598</td>\n",
              "      <td>0.014972</td>\n",
              "      <td>5.386076</td>\n",
              "    </tr>\n",
              "  </tbody>\n",
              "</table>\n",
              "</div>\n",
              "      <button class=\"colab-df-convert\" onclick=\"convertToInteractive('df-b9dd285e-82ec-49c7-9d72-091c9c1c21db')\"\n",
              "              title=\"Convert this dataframe to an interactive table.\"\n",
              "              style=\"display:none;\">\n",
              "        \n",
              "  <svg xmlns=\"http://www.w3.org/2000/svg\" height=\"24px\"viewBox=\"0 0 24 24\"\n",
              "       width=\"24px\">\n",
              "    <path d=\"M0 0h24v24H0V0z\" fill=\"none\"/>\n",
              "    <path d=\"M18.56 5.44l.94 2.06.94-2.06 2.06-.94-2.06-.94-.94-2.06-.94 2.06-2.06.94zm-11 1L8.5 8.5l.94-2.06 2.06-.94-2.06-.94L8.5 2.5l-.94 2.06-2.06.94zm10 10l.94 2.06.94-2.06 2.06-.94-2.06-.94-.94-2.06-.94 2.06-2.06.94z\"/><path d=\"M17.41 7.96l-1.37-1.37c-.4-.4-.92-.59-1.43-.59-.52 0-1.04.2-1.43.59L10.3 9.45l-7.72 7.72c-.78.78-.78 2.05 0 2.83L4 21.41c.39.39.9.59 1.41.59.51 0 1.02-.2 1.41-.59l7.78-7.78 2.81-2.81c.8-.78.8-2.07 0-2.86zM5.41 20L4 18.59l7.72-7.72 1.47 1.35L5.41 20z\"/>\n",
              "  </svg>\n",
              "      </button>\n",
              "      \n",
              "  <style>\n",
              "    .colab-df-container {\n",
              "      display:flex;\n",
              "      flex-wrap:wrap;\n",
              "      gap: 12px;\n",
              "    }\n",
              "\n",
              "    .colab-df-convert {\n",
              "      background-color: #E8F0FE;\n",
              "      border: none;\n",
              "      border-radius: 50%;\n",
              "      cursor: pointer;\n",
              "      display: none;\n",
              "      fill: #1967D2;\n",
              "      height: 32px;\n",
              "      padding: 0 0 0 0;\n",
              "      width: 32px;\n",
              "    }\n",
              "\n",
              "    .colab-df-convert:hover {\n",
              "      background-color: #E2EBFA;\n",
              "      box-shadow: 0px 1px 2px rgba(60, 64, 67, 0.3), 0px 1px 3px 1px rgba(60, 64, 67, 0.15);\n",
              "      fill: #174EA6;\n",
              "    }\n",
              "\n",
              "    [theme=dark] .colab-df-convert {\n",
              "      background-color: #3B4455;\n",
              "      fill: #D2E3FC;\n",
              "    }\n",
              "\n",
              "    [theme=dark] .colab-df-convert:hover {\n",
              "      background-color: #434B5C;\n",
              "      box-shadow: 0px 1px 3px 1px rgba(0, 0, 0, 0.15);\n",
              "      filter: drop-shadow(0px 1px 2px rgba(0, 0, 0, 0.3));\n",
              "      fill: #FFFFFF;\n",
              "    }\n",
              "  </style>\n",
              "\n",
              "      <script>\n",
              "        const buttonEl =\n",
              "          document.querySelector('#df-b9dd285e-82ec-49c7-9d72-091c9c1c21db button.colab-df-convert');\n",
              "        buttonEl.style.display =\n",
              "          google.colab.kernel.accessAllowed ? 'block' : 'none';\n",
              "\n",
              "        async function convertToInteractive(key) {\n",
              "          const element = document.querySelector('#df-b9dd285e-82ec-49c7-9d72-091c9c1c21db');\n",
              "          const dataTable =\n",
              "            await google.colab.kernel.invokeFunction('convertToInteractive',\n",
              "                                                     [key], {});\n",
              "          if (!dataTable) return;\n",
              "\n",
              "          const docLinkHtml = 'Like what you see? Visit the ' +\n",
              "            '<a target=\"_blank\" href=https://colab.research.google.com/notebooks/data_table.ipynb>data table notebook</a>'\n",
              "            + ' to learn more about interactive tables.';\n",
              "          element.innerHTML = '';\n",
              "          dataTable['output_type'] = 'display_data';\n",
              "          await google.colab.output.renderOutput(dataTable, element);\n",
              "          const docLink = document.createElement('div');\n",
              "          docLink.innerHTML = docLinkHtml;\n",
              "          element.appendChild(docLink);\n",
              "        }\n",
              "      </script>\n",
              "    </div>\n",
              "  </div>\n",
              "  "
            ]
          },
          "metadata": {},
          "execution_count": 28
        }
      ]
    }
  ]
}